{
 "cells": [
  {
   "cell_type": "code",
   "execution_count": 245,
   "metadata": {},
   "outputs": [],
   "source": [
    "import pandas as pd\n",
    "import numpy as np\n",
    "from dash import Dash, dcc, html, Input, Output, ctx\n",
    "import plotly.express as px\n",
    "from dash import dcc, html\n",
    "from dash.dependencies import Input, Output\n",
    "import plotly.express as px\n",
    "from sklearn.ensemble import RandomForestClassifier\n",
    "from sklearn.cluster import KMeans\n",
    "from sklearn.preprocessing import StandardScaler\n",
    "from sklearn.model_selection import train_test_split\n",
    "\n",
    "import matplotlib.pyplot as plt\n",
    "from sklearn.metrics import classification_report, accuracy_score\n",
    "\n",
    "\n",
    "from sklearn.metrics import confusion_matrix, ConfusionMatrixDisplay\n",
    "import seaborn as sns\n",
    "import plotly.figure_factory as ff"
   ]
  },
  {
   "cell_type": "code",
   "execution_count": 246,
   "metadata": {},
   "outputs": [],
   "source": [
    "def load_data():\n",
    "    url = 'marketing_campaign.csv'  \n",
    "    df = pd.read_csv(url, delimiter='\\t') \n",
    "\n",
    "    df.columns = df.columns.str.strip() \n",
    "    print(\"DataFrame Columns:\", df.columns.tolist()) \n",
    "\n",
    "    return df"
   ]
  },
  {
   "cell_type": "code",
   "execution_count": 247,
   "metadata": {},
   "outputs": [],
   "source": [
    "def train_random_forest(df):\n",
    "\n",
    "    features = df[['Income', 'MntWines', 'MntFruits']]  \n",
    "    target = df['Marital_Status']  \n",
    "\n",
    "    X_train, X_test, y_train, y_test = train_test_split(features, target, test_size=0.2, random_state=0)\n",
    "\n",
    "    rf_model = RandomForestClassifier(random_state=0)\n",
    "    rf_model.fit(X_train, y_train)\n",
    "\n",
    "    rf_predictions = rf_model.predict(X_test)\n",
    "    \n",
    "    return rf_model, rf_predictions"
   ]
  },
  {
   "cell_type": "code",
   "execution_count": 248,
   "metadata": {},
   "outputs": [],
   "source": [
    "def apply_kmeans(df, n_clusters=3):\n",
    "    features = df[['Income', 'MntWines', 'MntFruits']]  \n",
    "    scaler = StandardScaler()\n",
    "    scaled_features = scaler.fit_transform(features)\n",
    "\n",
    "    kmeans = KMeans(n_clusters=n_clusters, random_state=0)\n",
    "    df['Cluster'] = kmeans.fit_predict(scaled_features)\n",
    "    \n",
    "    return kmeans, df\n"
   ]
  },
  {
   "cell_type": "code",
   "execution_count": 249,
   "metadata": {},
   "outputs": [],
   "source": [
    "def apply_kmeans(data):\n",
    "    features = data[['Income', 'MntWines', 'MntFruits']]\n",
    "    scaler = StandardScaler()\n",
    "    scaled_features = scaler.fit_transform(features)\n",
    "\n",
    "    kmeans = KMeans(n_clusters=3, random_state=0)\n",
    "    data['Cluster'] = kmeans.fit_predict(scaled_features)\n",
    "    return kmeans, data "
   ]
  },
  {
   "cell_type": "code",
   "execution_count": 251,
   "metadata": {},
   "outputs": [],
   "source": [
    "def train_random_forest(data):\n",
    "    features = data[['Income', 'MntWines', 'MntFruits']]  \n",
    "    labels = data['Marital_Status'] \n",
    "    rf_model = RandomForestClassifier(random_state=0)\n",
    "    rf_model.fit(features, labels)\n",
    "    predictions = rf_model.predict(features)  \n",
    "    return rf_model, predictions \n"
   ]
  },
  {
   "cell_type": "code",
   "execution_count": 252,
   "metadata": {},
   "outputs": [
    {
     "name": "stdout",
     "output_type": "stream",
     "text": [
      "DataFrame Columns: ['ID', 'Year_Birth', 'Education', 'Marital_Status', 'Income', 'Kidhome', 'Teenhome', 'Dt_Customer', 'Recency', 'MntWines', 'MntFruits', 'MntMeatProducts', 'MntFishProducts', 'MntSweetProducts', 'MntGoldProds', 'NumDealsPurchases', 'NumWebPurchases', 'NumCatalogPurchases', 'NumStorePurchases', 'NumWebVisitsMonth', 'AcceptedCmp3', 'AcceptedCmp4', 'AcceptedCmp5', 'AcceptedCmp1', 'AcceptedCmp2', 'Complain', 'Z_CostContact', 'Z_Revenue', 'Response']\n"
     ]
    }
   ],
   "source": [
    "df = load_data()\n",
    "\n",
    "df.dropna(subset=['Income', 'MntWines', 'MntFruits', 'MntMeatProducts', 'MntFishProducts', 'MntSweetProducts', 'MntGoldProds'], inplace=True)"
   ]
  },
  {
   "cell_type": "code",
   "execution_count": 253,
   "metadata": {},
   "outputs": [],
   "source": [
    "app = Dash(__name__)"
   ]
  },
  {
   "cell_type": "code",
   "execution_count": 254,
   "metadata": {},
   "outputs": [],
   "source": [
    "# Layout of the dashboard\n",
    "app.layout = html.Div([\n",
    "    html.Div([\n",
    "        html.H1(\"Customer Insights Dashboard\"),\n",
    "        html.Label(\"Select Education Level:\"),\n",
    "        dcc.Dropdown(\n",
    "            id='education-dropdown',\n",
    "            options=[{'label': i, 'value': i} for i in df['Education'].unique()],\n",
    "            multi=True,\n",
    "            value=[df['Education'].unique()[0]],\n",
    "            style={'padding': '5px', 'border-radius': '8px', 'backgroundColor': '#e6e6fa'}\n",
    "            \n",
    "        ),  \n",
    "        html.Label(\"Select Marital Status:\"),\n",
    "        dcc.Dropdown(\n",
    "            id='marital-status-dropdown', style={'padding': '5px', 'border-radius': '8px', 'backgroundColor': '#e6e6fa'},\n",
    "            options=[{'label': i, 'value': i} for i in df['Marital_Status'].unique()],\n",
    "            multi=True,\n",
    "            value=[df['Marital_Status'].unique()[0]],\n",
    "        ),\n",
    "        html.Button('Update Graphs', id='update-button', n_clicks=0),\n",
    "    ], style={'width': '25%', 'display': 'inline-block', 'vertical-align': 'top'}), \n",
    "\n",
    "    html.Div([\n",
    "        dcc.Graph(id='income-distribution'),\n",
    "        dcc.Graph(id='customer-count'),\n",
    "\n",
    "        # Average Income and Total Spending\n",
    "        html.Div([\n",
    "            dcc.Graph(id='avg-income-education', style={'width': '48%', 'display': 'inline-block'}),\n",
    "            dcc.Graph(id='total-spending', style={'width': '48%', 'display': 'inline-block'}),\n",
    "        ], style={'display': 'flex', 'justify-content': 'space-between'}), \n",
    "\n",
    "        dcc.Graph(id='customer-segmentation'),  # K-Means Clustering\n",
    "        dcc.Graph(id='random-forest-output'),  # Confusion Matrix\n",
    "        dcc.Graph(id='feature-importance-plot'),  # Feature Importance\n",
    "    ], style={'width': '75%', 'display': 'inline-block'})  \n",
    "])\n"
   ]
  },
  {
   "cell_type": "code",
   "execution_count": 257,
   "metadata": {},
   "outputs": [],
   "source": [
    "@app.callback(\n",
    "    [Output('income-distribution', 'figure'),\n",
    "     Output('customer-count', 'figure'),\n",
    "     Output('avg-income-education', 'figure'),\n",
    "     Output('total-spending', 'figure'),\n",
    "     Output('customer-segmentation', 'figure'),\n",
    "     Output('random-forest-output', 'figure'),\n",
    "     Output('feature-importance-plot', 'figure')],\n",
    "    [Input('update-button', 'n_clicks'),\n",
    "     Input('education-dropdown', 'value'),\n",
    "     Input('marital-status-dropdown', 'value')]\n",
    ")\n",
    "def update_graphs(n_clicks, education, marital_status):\n",
    "    filtered_data = df[df['Education'].isin(education) & df['Marital_Status'].isin(marital_status)]\n",
    "    \n",
    "    # Income Distribution\n",
    "    income_fig = px.histogram(\n",
    "    filtered_data, \n",
    "    x='Income', \n",
    "    nbins=30, \n",
    "    title='Income Distribution', \n",
    "    marginal='box', \n",
    "    color_discrete_sequence=['#1f77b4']  \n",
    ")\n",
    "\n",
    "\n",
    "    # Customer Count by Marital Status\n",
    "    customer_count_fig = px.histogram(\n",
    "    filtered_data, \n",
    "    x='Marital_Status', \n",
    "    title='Count of Customers by Marital Status',\n",
    "    color='Marital_Status',  \n",
    "    color_discrete_sequence=px.colors.qualitative.Plotly\n",
    ")\n",
    "\n",
    "    # Average Income by Education Level\n",
    "    avg_income_fig = px.bar(\n",
    "    df.groupby('Education')['Income'].mean().reset_index(),\n",
    "    x='Education', \n",
    "    y='Income', \n",
    "    title='Average Income by Education Level',\n",
    "    color='Income', \n",
    "    color_continuous_scale=px.colors.sequential.Plasma\n",
    ")\n",
    "\n",
    "\n",
    "    # Total Spending by Category\n",
    "    spending_categories = ['MntWines', 'MntFruits', 'MntMeatProducts', 'MntFishProducts', 'MntSweetProducts', 'MntGoldProds']\n",
    "    total_spending = filtered_data[spending_categories].sum().reset_index()\n",
    "    total_spending.columns = ['Category', 'Total Spending']\n",
    "    total_spending_fig = px.pie(total_spending, values='Total Spending', names='Category', title='Total Spending by Category')\n",
    "\n",
    "    # K-Means Clustering\n",
    "    kmeans_model, clustered_data = apply_kmeans(filtered_data)\n",
    "    clustering_fig = px.scatter(clustered_data, x='Income', y='MntWines', color='Cluster', title='K-Means Clustering', color_continuous_scale=px.colors.qualitative.Plotly)\n",
    "\n",
    "\n",
    "    # Random Forest Model Output\n",
    "    rf_model, rf_predictions = train_random_forest(filtered_data)\n",
    "    \n",
    "    # Confusion Matrix\n",
    "    cm = confusion_matrix(filtered_data['Marital_Status'], rf_predictions)\n",
    "    cm_fig = px.imshow(cm, text_auto=True, title='Confusion Matrix', labels={'x': 'Predicted', 'y': 'Actual'})\n",
    "\n",
    "    # Feature Importance\n",
    "    feature_importances = rf_model.feature_importances_\n",
    "    feature_names = filtered_data[['Income', 'MntWines', 'MntFruits']].columns\n",
    "    feature_importance_fig = px.bar(\n",
    "    x=feature_names, \n",
    "    y=feature_importances, \n",
    "    title='Feature Importance from Random Forest',\n",
    "    color=feature_importances, \n",
    "    color_continuous_scale=px.colors.sequential.Viridis\n",
    ")\n",
    "\n",
    "\n",
    "    return income_fig, customer_count_fig, avg_income_fig, total_spending_fig, clustering_fig, cm_fig, feature_importance_fig\n"
   ]
  },
  {
   "cell_type": "code",
   "execution_count": 256,
   "metadata": {},
   "outputs": [
    {
     "data": {
      "text/html": [
       "\n",
       "        <iframe\n",
       "            width=\"100%\"\n",
       "            height=\"650\"\n",
       "            src=\"http://127.0.0.1:8050/\"\n",
       "            frameborder=\"0\"\n",
       "            allowfullscreen\n",
       "            \n",
       "        ></iframe>\n",
       "        "
      ],
      "text/plain": [
       "<IPython.lib.display.IFrame at 0x1414181f0>"
      ]
     },
     "metadata": {},
     "output_type": "display_data"
    },
    {
     "name": "stderr",
     "output_type": "stream",
     "text": [
      "/Users/vedashreepatil/Library/Python/3.9/lib/python/site-packages/sklearn/metrics/_classification.py:409: UserWarning:\n",
      "\n",
      "A single label was found in 'y_true' and 'y_pred'. For the confusion matrix to have the correct shape, use the 'labels' parameter to pass all known labels.\n",
      "\n",
      "/Users/vedashreepatil/Library/Python/3.9/lib/python/site-packages/sklearn/metrics/_classification.py:409: UserWarning:\n",
      "\n",
      "A single label was found in 'y_true' and 'y_pred'. For the confusion matrix to have the correct shape, use the 'labels' parameter to pass all known labels.\n",
      "\n",
      "/Users/vedashreepatil/Library/Python/3.9/lib/python/site-packages/sklearn/metrics/_classification.py:409: UserWarning:\n",
      "\n",
      "A single label was found in 'y_true' and 'y_pred'. For the confusion matrix to have the correct shape, use the 'labels' parameter to pass all known labels.\n",
      "\n",
      "/Users/vedashreepatil/Library/Python/3.9/lib/python/site-packages/sklearn/metrics/_classification.py:409: UserWarning:\n",
      "\n",
      "A single label was found in 'y_true' and 'y_pred'. For the confusion matrix to have the correct shape, use the 'labels' parameter to pass all known labels.\n",
      "\n",
      "/Users/vedashreepatil/Library/Python/3.9/lib/python/site-packages/sklearn/metrics/_classification.py:409: UserWarning:\n",
      "\n",
      "A single label was found in 'y_true' and 'y_pred'. For the confusion matrix to have the correct shape, use the 'labels' parameter to pass all known labels.\n",
      "\n"
     ]
    }
   ],
   "source": [
    "if __name__ == '__main__':\n",
    "    app.run_server(debug=True)"
   ]
  }
 ],
 "metadata": {
  "kernelspec": {
   "display_name": "Python 3",
   "language": "python",
   "name": "python3"
  },
  "language_info": {
   "codemirror_mode": {
    "name": "ipython",
    "version": 3
   },
   "file_extension": ".py",
   "mimetype": "text/x-python",
   "name": "python",
   "nbconvert_exporter": "python",
   "pygments_lexer": "ipython3",
   "version": "3.9.6"
  }
 },
 "nbformat": 4,
 "nbformat_minor": 2
}
